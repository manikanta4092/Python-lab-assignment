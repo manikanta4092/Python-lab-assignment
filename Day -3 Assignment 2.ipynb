{
 "cells": [
  {
   "cell_type": "code",
   "execution_count": null,
   "metadata": {},
   "outputs": [
    {
     "name": "stdout",
     "output_type": "stream",
     "text": [
      "enter altitude:1000\n",
      "plane is safe to land\n",
      "enter altitude:6000\n",
      "turn around and try later\n",
      "enter altitude:100\n",
      "turn around and try later\n",
      "enter altitude:10000\n",
      "turn around and try later\n",
      "enter altitude:2000\n",
      "bring the plane down to 1000\n"
     ]
    }
   ],
   "source": [
    "for altitude in range(1000,10000):\n",
    "    altitude=int(input('enter altitude:'))\n",
    "    if altitude==1000:\n",
    "        print('plane is safe to land')\n",
    "    elif altitude>1000 and altitude<5000:\n",
    "        print('bring the plane down to 1000')\n",
    "    else:\n",
    "        print('turn around and try later')\n"
   ]
  },
  {
   "cell_type": "code",
   "execution_count": null,
   "metadata": {},
   "outputs": [],
   "source": []
  }
 ],
 "metadata": {
  "kernelspec": {
   "display_name": "Python 3",
   "language": "python",
   "name": "python3"
  },
  "language_info": {
   "codemirror_mode": {
    "name": "ipython",
    "version": 3
   },
   "file_extension": ".py",
   "mimetype": "text/x-python",
   "name": "python",
   "nbconvert_exporter": "python",
   "pygments_lexer": "ipython3",
   "version": "3.8.3"
  }
 },
 "nbformat": 4,
 "nbformat_minor": 4
}
